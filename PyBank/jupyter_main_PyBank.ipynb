{
 "cells": [
  {
   "cell_type": "code",
   "execution_count": 256,
   "id": "8123a2b5",
   "metadata": {},
   "outputs": [],
   "source": [
    "#dependencies\n",
    "import os\n",
    "import csv\n",
    "from collections import Counter\n",
    "from datetime import datetime"
   ]
  },
  {
   "cell_type": "code",
   "execution_count": 257,
   "id": "45463a28",
   "metadata": {},
   "outputs": [],
   "source": [
    "#defines an averaging function\n",
    "def Average(lst):\n",
    "    return sum(lst) / len(lst)"
   ]
  },
  {
   "cell_type": "code",
   "execution_count": 258,
   "id": "eb83702b",
   "metadata": {},
   "outputs": [],
   "source": [
    "#assign csv data to variable\n",
    "budget_data_csv = open(\"Resources/budget_data.csv\", \"r\")"
   ]
  },
  {
   "cell_type": "code",
   "execution_count": 259,
   "id": "578ea92d",
   "metadata": {},
   "outputs": [],
   "source": [
    "#read csv\n",
    "csv_reader = csv.reader(budget_data_csv, delimiter=\",\")"
   ]
  },
  {
   "cell_type": "code",
   "execution_count": 260,
   "id": "7d6f3940",
   "metadata": {},
   "outputs": [
    {
     "name": "stdout",
     "output_type": "stream",
     "text": [
      "Header: ['Date', 'Profit/Losses']\n"
     ]
    }
   ],
   "source": [
    "#Read and print the header row\n",
    "csv_header = next(csv_reader)\n",
    "print(f\"Header: {csv_header}\")"
   ]
  },
  {
   "cell_type": "code",
   "execution_count": 261,
   "id": "efd943a8",
   "metadata": {
    "scrolled": false
   },
   "outputs": [],
   "source": [
    "#Read and print all rows of csv data \n",
    "#(this was a quality check)\n",
    "#for row in budget_data_csv:\n",
    "    #print(row)"
   ]
  },
  {
   "cell_type": "code",
   "execution_count": 262,
   "id": "5b31e73e",
   "metadata": {},
   "outputs": [],
   "source": [
    "#assign the index to a variable\n",
    "date_index = csv_header.index(\"Date\")\n",
    "profit_losses_index = csv_header.index(\"Profit/Losses\")"
   ]
  },
  {
   "cell_type": "code",
   "execution_count": 263,
   "id": "a59328ea",
   "metadata": {},
   "outputs": [],
   "source": [
    "#create a list to store the date data  \n",
    "#create a variable & starting value for total & previous profit/loss\n",
    "#create list to store the monthly changes\n",
    "\n",
    "dates = []\n",
    "total = 0\n",
    "prev_profit_loss = 0\n",
    "monthly_changes = []"
   ]
  },
  {
   "cell_type": "code",
   "execution_count": 264,
   "id": "88a8df37",
   "metadata": {},
   "outputs": [],
   "source": [
    "#populate the list with all of the dates in the csv file\n",
    "for row in csv_reader:\n",
    "    dates.append(row[date_index])\n",
    "    total = total + float(row[profit_losses_index])\n",
    "    if prev_profit_loss == 0:\n",
    "        prev_profit_loss = float(row[profit_losses_index])\n",
    "    else:\n",
    "        monthly_change = float(row[profit_losses_index]) - prev_profit_loss\n",
    "        monthly_changes.append(monthly_change)\n",
    "        prev_profit_loss = float(row[profit_losses_index]) "
   ]
  },
  {
   "cell_type": "code",
   "execution_count": 265,
   "id": "ef28ca3c",
   "metadata": {},
   "outputs": [
    {
     "name": "stdout",
     "output_type": "stream",
     "text": [
      "['Jan-10', 'Feb-10', 'Mar-10', 'Apr-10', 'May-10', 'Jun-10', 'Jul-10', 'Aug-10', 'Sep-10', 'Oct-10', 'Nov-10', 'Dec-10', 'Jan-11', 'Feb-11', 'Mar-11', 'Apr-11', 'May-11', 'Jun-11', 'Jul-11', 'Aug-11', 'Sep-11', 'Oct-11', 'Nov-11', 'Dec-11', 'Jan-12', 'Feb-12', 'Mar-12', 'Apr-12', 'May-12', 'Jun-12', 'Jul-12', 'Aug-12', 'Sep-12', 'Oct-12', 'Nov-12', 'Dec-12', 'Jan-13', 'Feb-13', 'Mar-13', 'Apr-13', 'May-13', 'Jun-13', 'Jul-13', 'Aug-13', 'Sep-13', 'Oct-13', 'Nov-13', 'Dec-13', 'Jan-14', 'Feb-14', 'Mar-14', 'Apr-14', 'May-14', 'Jun-14', 'Jul-14', 'Aug-14', 'Sep-14', 'Oct-14', 'Nov-14', 'Dec-14', 'Jan-15', 'Feb-15', 'Mar-15', 'Apr-15', 'May-15', 'Jun-15', 'Jul-15', 'Aug-15', 'Sep-15', 'Oct-15', 'Nov-15', 'Dec-15', 'Jan-16', 'Feb-16', 'Mar-16', 'Apr-16', 'May-16', 'Jun-16', 'Jul-16', 'Aug-16', 'Sep-16', 'Oct-16', 'Nov-16', 'Dec-16', 'Jan-17', 'Feb-17']\n"
     ]
    }
   ],
   "source": [
    "#quality check\n",
    "print(dates)"
   ]
  },
  {
   "cell_type": "code",
   "execution_count": 266,
   "id": "5a514d59",
   "metadata": {},
   "outputs": [],
   "source": [
    "# Use the len function to generate the frequency count\n",
    "month_counts = len(dates)\n"
   ]
  },
  {
   "cell_type": "code",
   "execution_count": 267,
   "id": "fd65ef35",
   "metadata": {},
   "outputs": [
    {
     "name": "stdout",
     "output_type": "stream",
     "text": [
      "86\n"
     ]
    }
   ],
   "source": [
    "# Print the frequency count of months\n",
    "print(month_counts)"
   ]
  },
  {
   "cell_type": "code",
   "execution_count": 268,
   "id": "ec25bd10",
   "metadata": {},
   "outputs": [
    {
     "name": "stdout",
     "output_type": "stream",
     "text": [
      "22564198.0\n"
     ]
    }
   ],
   "source": [
    "print(total)"
   ]
  },
  {
   "cell_type": "code",
   "execution_count": 269,
   "id": "aebd15cb",
   "metadata": {},
   "outputs": [
    {
     "name": "stdout",
     "output_type": "stream",
     "text": [
      "[-1443517.0, 631156.0, -1004755.0, 1581126.0, -289272.0, -1098929.0, 1167557.0, -806093.0, 1124485.0, -1736491.0, -408383.0, 604557.0, -294345.0, 1327485.0, 394323.0, 243585.0, -617439.0, -1530577.0, 1390390.0, -1130397.0, 1293604.0, 641758.0, -337413.0, -52031.0, -937192.0, 863841.0, -76245.0, -100481.0, -960729.0, 591856.0, 54930.0, 680102.0, -250254.0, -840415.0, 582358.0, -48628.0, -135256.0, 978586.0, -599210.0, -442789.0, 652924.0, -1005714.0, 1167373.0, -234900.0, -165147.0, -52275.0, -302320.0, 719028.0, -1825558.0, 1287083.0, -48303.0, 210234.0, -236414.0, 585165.0, -1400632.0, 839777.0, 465229.0, 317811.0, -760202.0, -71868.0, 795457.0, -182685.0, -1242836.0, 1371884.0, -445193.0, 10025.0, -1043998.0, 1350395.0, 80538.0, -1223250.0, 104148.0, 843924.0, -1808664.0, 1505005.0, 306402.0, -143603.0, -1266937.0, -162519.0, 1862002.0, -52986.0, -1627245.0, 616795.0, 628522.0, 90895.0, -224669.0]\n"
     ]
    }
   ],
   "source": [
    "print(monthly_changes)"
   ]
  },
  {
   "cell_type": "code",
   "execution_count": 270,
   "id": "d0c54652",
   "metadata": {},
   "outputs": [
    {
     "name": "stdout",
     "output_type": "stream",
     "text": [
      "-8311.11\n"
     ]
    }
   ],
   "source": [
    "average_change = round((Average(monthly_changes)), 2)\n",
    "print(average_change)"
   ]
  },
  {
   "cell_type": "code",
   "execution_count": 271,
   "id": "ddc3616c",
   "metadata": {},
   "outputs": [
    {
     "name": "stdout",
     "output_type": "stream",
     "text": [
      "1862002.0\n"
     ]
    }
   ],
   "source": [
    "greatest_increase = max(monthly_changes)\n",
    "print(greatest_increase)"
   ]
  },
  {
   "cell_type": "code",
   "execution_count": 272,
   "id": "f5b1c29f",
   "metadata": {},
   "outputs": [
    {
     "name": "stdout",
     "output_type": "stream",
     "text": [
      "-1825558.0\n"
     ]
    }
   ],
   "source": [
    "greatest_decrease = min(monthly_changes)\n",
    "print(greatest_decrease)"
   ]
  },
  {
   "cell_type": "code",
   "execution_count": 273,
   "id": "cd54b881",
   "metadata": {},
   "outputs": [
    {
     "name": "stdout",
     "output_type": "stream",
     "text": [
      "Financial Analysis\n",
      "----------------------------\n",
      "Total months: 86\n",
      "Total profit/loss: $22564198.0\n",
      "Average change: $-8311.11\n",
      "Greatest increase in profits: $1862002.0\n",
      "Greatest decrease in profits: $-1825558.0\n"
     ]
    }
   ],
   "source": [
    "print(\"Financial Analysis\")\n",
    "print(\"----------------------------\")\n",
    "print(f\"Total months: {month_counts}\")\n",
    "print(f\"Total profit/loss: ${total}\")\n",
    "print(f\"Average change: ${average_change}\")\n",
    "print(f\"Greatest increase in profits: ${greatest_increase}\")\n",
    "print(f\"Greatest decrease in profits: ${greatest_decrease}\")"
   ]
  },
  {
   "cell_type": "code",
   "execution_count": 275,
   "id": "33a9fc76",
   "metadata": {},
   "outputs": [],
   "source": [
    "#Export results to a text file\n",
    "\n",
    "with open('Resources/output_PyBank.txt', 'w') as f:\n",
    "    f.write(\"Financial Analysis\\n\")\n",
    "    f.write(\"----------------------------\\n\")\n",
    "    f.write(f\"Total months: {month_counts}\\n\")\n",
    "    f.write(f\"Total profit/loss: ${total}\\n\")\n",
    "    f.write(f\"Average change: ${average_change}\\n\")\n",
    "    f.write(f\"Greatest increase in profits: ${greatest_increase}\\n\")\n",
    "    f.write(f\"Greatest decrease in profits: ${greatest_decrease}\\n\")\n",
    "        "
   ]
  },
  {
   "cell_type": "code",
   "execution_count": 280,
   "id": "9faf62e6",
   "metadata": {},
   "outputs": [
    {
     "name": "stdout",
     "output_type": "stream",
     "text": [
      "The name of the output file is output_PyBank.txt and it can be found in \n",
      "the resources folder for this program.\n"
     ]
    }
   ],
   "source": [
    "print(\"The name of the output file is output_PyBank.txt and it can be found in \\nthe resources folder for this program.\")"
   ]
  },
  {
   "cell_type": "code",
   "execution_count": 281,
   "id": "c10babda",
   "metadata": {},
   "outputs": [
    {
     "name": "stdout",
     "output_type": "stream",
     "text": [
      "Thank you for running Hugh's jupyter_main_PyBank.\n",
      "Up next, PyPoll!\n"
     ]
    }
   ],
   "source": [
    "print(\"Thank you for running Hugh's jupyter_main_PyBank.\\nUp next, PyPoll!\")"
   ]
  },
  {
   "cell_type": "code",
   "execution_count": null,
   "id": "5dc02cc5",
   "metadata": {},
   "outputs": [],
   "source": []
  },
  {
   "cell_type": "code",
   "execution_count": null,
   "id": "5f7696c0",
   "metadata": {},
   "outputs": [],
   "source": []
  },
  {
   "cell_type": "code",
   "execution_count": null,
   "id": "e6f2cad0",
   "metadata": {},
   "outputs": [],
   "source": []
  },
  {
   "cell_type": "code",
   "execution_count": null,
   "id": "0a6a154e",
   "metadata": {},
   "outputs": [],
   "source": []
  },
  {
   "cell_type": "code",
   "execution_count": null,
   "id": "6a151daf",
   "metadata": {},
   "outputs": [],
   "source": [
    "test_list = [40, 30, 20, 10, 0, 90, 80, 70, 60, -20, 50]\n",
    "print(min(test_list))"
   ]
  },
  {
   "cell_type": "code",
   "execution_count": null,
   "id": "6fecc8d8",
   "metadata": {},
   "outputs": [],
   "source": []
  },
  {
   "cell_type": "code",
   "execution_count": null,
   "id": "af5de241",
   "metadata": {},
   "outputs": [],
   "source": []
  },
  {
   "cell_type": "code",
   "execution_count": null,
   "id": "6f00e653",
   "metadata": {},
   "outputs": [],
   "source": []
  },
  {
   "cell_type": "code",
   "execution_count": null,
   "id": "578a28ef",
   "metadata": {},
   "outputs": [],
   "source": []
  },
  {
   "cell_type": "code",
   "execution_count": null,
   "id": "2948c311",
   "metadata": {},
   "outputs": [],
   "source": []
  },
  {
   "cell_type": "code",
   "execution_count": null,
   "id": "47e925e6",
   "metadata": {},
   "outputs": [],
   "source": [
    "budget_data_csv.close()"
   ]
  }
 ],
 "metadata": {
  "kernelspec": {
   "display_name": "PythonData",
   "language": "python",
   "name": "pythondata"
  },
  "language_info": {
   "codemirror_mode": {
    "name": "ipython",
    "version": 3
   },
   "file_extension": ".py",
   "mimetype": "text/x-python",
   "name": "python",
   "nbconvert_exporter": "python",
   "pygments_lexer": "ipython3",
   "version": "3.7.13"
  }
 },
 "nbformat": 4,
 "nbformat_minor": 5
}
