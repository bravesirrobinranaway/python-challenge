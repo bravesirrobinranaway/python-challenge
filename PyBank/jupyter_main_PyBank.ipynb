{
 "cells": [
  {
   "cell_type": "code",
   "execution_count": 40,
   "id": "8123a2b5",
   "metadata": {},
   "outputs": [],
   "source": [
    "#dependencies\n",
    "import os\n",
    "import csv\n",
    "from collections import Counter\n",
    "from datetime import datetime\n",
    "\n",
    "\n",
    "\n"
   ]
  },
  {
   "cell_type": "code",
   "execution_count": 41,
   "id": "eb83702b",
   "metadata": {},
   "outputs": [],
   "source": [
    "#assign csv data to variable\n",
    "budget_data_csv = open(\"Resources/budget_data.csv\", \"r\")"
   ]
  },
  {
   "cell_type": "code",
   "execution_count": 42,
   "id": "578ea92d",
   "metadata": {},
   "outputs": [],
   "source": [
    "#read csv\n",
    "csv_reader = csv.reader(budget_data_csv, delimiter=\",\")"
   ]
  },
  {
   "cell_type": "code",
   "execution_count": 43,
   "id": "7d6f3940",
   "metadata": {},
   "outputs": [
    {
     "name": "stdout",
     "output_type": "stream",
     "text": [
      "Header: ['Date', 'Profit/Losses']\n"
     ]
    }
   ],
   "source": [
    "#Read and print the header row\n",
    "csv_header = next(csv_reader)\n",
    "print(f\"Header: {csv_header}\")"
   ]
  },
  {
   "cell_type": "code",
   "execution_count": null,
   "id": "efd943a8",
   "metadata": {
    "scrolled": false
   },
   "outputs": [],
   "source": [
    "#Read and print all rows of csv data \n",
    "#(this was a quality check)\n",
    "#for row in budget_data_csv:\n",
    "    #print(row)"
   ]
  },
  {
   "cell_type": "code",
   "execution_count": null,
   "id": "6f0f9786",
   "metadata": {},
   "outputs": [],
   "source": []
  },
  {
   "cell_type": "code",
   "execution_count": 44,
   "id": "2a98bf9c",
   "metadata": {},
   "outputs": [],
   "source": [
    "#assign the date column to a variable\n",
    "date_column = \"Date\"\n",
    "\n",
    "#assign the index to a variable\n",
    "date_index = csv_header.index(date_column)"
   ]
  },
  {
   "cell_type": "code",
   "execution_count": 45,
   "id": "95adb94d",
   "metadata": {},
   "outputs": [],
   "source": [
    "#create a list to store the date data\n",
    "dates = []"
   ]
  },
  {
   "cell_type": "code",
   "execution_count": 46,
   "id": "436b672d",
   "metadata": {},
   "outputs": [],
   "source": [
    "#populate the list with all of the dates in the csv file\n",
    "for row in csv_reader:\n",
    "    dates.append(row[date_index])"
   ]
  },
  {
   "cell_type": "code",
   "execution_count": 47,
   "id": "dbd4b832",
   "metadata": {},
   "outputs": [
    {
     "name": "stdout",
     "output_type": "stream",
     "text": [
      "['Jan-10', 'Feb-10', 'Mar-10', 'Apr-10', 'May-10', 'Jun-10', 'Jul-10', 'Aug-10', 'Sep-10', 'Oct-10', 'Nov-10', 'Dec-10', 'Jan-11', 'Feb-11', 'Mar-11', 'Apr-11', 'May-11', 'Jun-11', 'Jul-11', 'Aug-11', 'Sep-11', 'Oct-11', 'Nov-11', 'Dec-11', 'Jan-12', 'Feb-12', 'Mar-12', 'Apr-12', 'May-12', 'Jun-12', 'Jul-12', 'Aug-12', 'Sep-12', 'Oct-12', 'Nov-12', 'Dec-12', 'Jan-13', 'Feb-13', 'Mar-13', 'Apr-13', 'May-13', 'Jun-13', 'Jul-13', 'Aug-13', 'Sep-13', 'Oct-13', 'Nov-13', 'Dec-13', 'Jan-14', 'Feb-14', 'Mar-14', 'Apr-14', 'May-14', 'Jun-14', 'Jul-14', 'Aug-14', 'Sep-14', 'Oct-14', 'Nov-14', 'Dec-14', 'Jan-15', 'Feb-15', 'Mar-15', 'Apr-15', 'May-15', 'Jun-15', 'Jul-15', 'Aug-15', 'Sep-15', 'Oct-15', 'Nov-15', 'Dec-15', 'Jan-16', 'Feb-16', 'Mar-16', 'Apr-16', 'May-16', 'Jun-16', 'Jul-16', 'Aug-16', 'Sep-16', 'Oct-16', 'Nov-16', 'Dec-16', 'Jan-17', 'Feb-17']\n"
     ]
    }
   ],
   "source": [
    "#quality check\n",
    "print(dates)"
   ]
  },
  {
   "cell_type": "code",
   "execution_count": 48,
   "id": "e4059afb",
   "metadata": {},
   "outputs": [],
   "source": [
    "# Check the date format in the `dates` list\n",
    "if dates[0].count(\"-\") == 1:\n",
    "    date_format = \"%b-%y\"\n",
    "elif dates[0].count(\"-\") == 2:\n",
    "    date_format = \"%m-%d-%y\"\n",
    "else:\n",
    "    raise ValueError(\"Unsupported date format\")\n",
    "\n"
   ]
  },
  {
   "cell_type": "code",
   "execution_count": 49,
   "id": "2a576473",
   "metadata": {},
   "outputs": [],
   "source": [
    "# Convert the dates just the months\n",
    "months = [datetime.strptime(date, date_format).strftime(\"%b\") for date in dates]"
   ]
  },
  {
   "cell_type": "code",
   "execution_count": 50,
   "id": "21aea35a",
   "metadata": {},
   "outputs": [
    {
     "name": "stdout",
     "output_type": "stream",
     "text": [
      "['Jan', 'Feb', 'Mar', 'Apr', 'May', 'Jun', 'Jul', 'Aug', 'Sep', 'Oct', 'Nov', 'Dec', 'Jan', 'Feb', 'Mar', 'Apr', 'May', 'Jun', 'Jul', 'Aug', 'Sep', 'Oct', 'Nov', 'Dec', 'Jan', 'Feb', 'Mar', 'Apr', 'May', 'Jun', 'Jul', 'Aug', 'Sep', 'Oct', 'Nov', 'Dec', 'Jan', 'Feb', 'Mar', 'Apr', 'May', 'Jun', 'Jul', 'Aug', 'Sep', 'Oct', 'Nov', 'Dec', 'Jan', 'Feb', 'Mar', 'Apr', 'May', 'Jun', 'Jul', 'Aug', 'Sep', 'Oct', 'Nov', 'Dec', 'Jan', 'Feb', 'Mar', 'Apr', 'May', 'Jun', 'Jul', 'Aug', 'Sep', 'Oct', 'Nov', 'Dec', 'Jan', 'Feb', 'Mar', 'Apr', 'May', 'Jun', 'Jul', 'Aug', 'Sep', 'Oct', 'Nov', 'Dec', 'Jan', 'Feb']\n"
     ]
    }
   ],
   "source": [
    "#quality check\n",
    "print(months)"
   ]
  },
  {
   "cell_type": "code",
   "execution_count": 51,
   "id": "9986f66e",
   "metadata": {},
   "outputs": [],
   "source": [
    "# Use the Counter class to generate the frequency count\n",
    "month_counts = Counter(months)\n"
   ]
  },
  {
   "cell_type": "code",
   "execution_count": 52,
   "id": "930e2011",
   "metadata": {},
   "outputs": [
    {
     "name": "stdout",
     "output_type": "stream",
     "text": [
      "Counter({'Jan': 8, 'Feb': 8, 'Mar': 7, 'Apr': 7, 'May': 7, 'Jun': 7, 'Jul': 7, 'Aug': 7, 'Sep': 7, 'Oct': 7, 'Nov': 7, 'Dec': 7})\n"
     ]
    }
   ],
   "source": [
    "# Print the frequency count of months\n",
    "print(month_counts)"
   ]
  },
  {
   "cell_type": "code",
   "execution_count": null,
   "id": "1370ed81",
   "metadata": {},
   "outputs": [],
   "source": []
  },
  {
   "cell_type": "code",
   "execution_count": null,
   "id": "9f9ec922",
   "metadata": {},
   "outputs": [],
   "source": []
  }
 ],
 "metadata": {
  "kernelspec": {
   "display_name": "PythonData",
   "language": "python",
   "name": "pythondata"
  },
  "language_info": {
   "codemirror_mode": {
    "name": "ipython",
    "version": 3
   },
   "file_extension": ".py",
   "mimetype": "text/x-python",
   "name": "python",
   "nbconvert_exporter": "python",
   "pygments_lexer": "ipython3",
   "version": "3.7.13"
  }
 },
 "nbformat": 4,
 "nbformat_minor": 5
}
