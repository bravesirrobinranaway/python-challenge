{
 "cells": [
  {
   "cell_type": "code",
   "execution_count": 15,
   "id": "8123a2b5",
   "metadata": {},
   "outputs": [],
   "source": [
    "#dependencies\n",
    "import os\n",
    "import csv\n",
    "from collections import Counter"
   ]
  },
  {
   "cell_type": "code",
   "execution_count": null,
   "id": "eae597fd",
   "metadata": {},
   "outputs": [],
   "source": [
    "#functions\n",
    "def setlist(list_data):\n",
    " \n",
    "    # insert the list to the set\n",
    "    list_set = set(list_data)\n",
    "    # convert the set to the list\n",
    "    list_ = (list(list_set))\n",
    "    for x in unique_list:\n",
    "        print x,"
   ]
  },
  {
   "cell_type": "code",
   "execution_count": 16,
   "id": "eb83702b",
   "metadata": {},
   "outputs": [],
   "source": [
    "#assign csv data to variable\n",
    "election_results = open(\"Resources/election_data.csv\", \"r\")"
   ]
  },
  {
   "cell_type": "code",
   "execution_count": 17,
   "id": "578ea92d",
   "metadata": {},
   "outputs": [],
   "source": [
    "#read csv\n",
    "csv_reader = csv.reader(election_results, delimiter=\",\")"
   ]
  },
  {
   "cell_type": "code",
   "execution_count": 18,
   "id": "7d6f3940",
   "metadata": {},
   "outputs": [
    {
     "name": "stdout",
     "output_type": "stream",
     "text": [
      "Header: ['Ballot ID', 'County', 'Candidate']\n"
     ]
    }
   ],
   "source": [
    "#Read and print the header row\n",
    "csv_header = next(csv_reader)\n",
    "print(f\"Header: {csv_header}\")"
   ]
  },
  {
   "cell_type": "code",
   "execution_count": 19,
   "id": "efd943a8",
   "metadata": {
    "scrolled": false
   },
   "outputs": [],
   "source": [
    "#Check to see if I can write the data to a new .csv file\n",
    "\n",
    "with open(\"Resources/new_election_data.csv\", \"w\", newline=\"\") as new_file:\n",
    "    csv_writer = csv.writer(new_file, delimiter=\",\")\n",
    "\n",
    "    # Write the header row to the new file\n",
    "    csv_writer.writerow(csv_header)\n",
    "\n",
    "    # Write all data rows to the new file\n",
    "    for row in csv_reader:\n",
    "        csv_writer.writerow(row)\n",
    "\n"
   ]
  },
  {
   "cell_type": "code",
   "execution_count": 20,
   "id": "5b31e73e",
   "metadata": {},
   "outputs": [
    {
     "data": {
      "text/plain": [
       "['Ballot ID', 'County', 'Candidate']"
      ]
     },
     "execution_count": 20,
     "metadata": {},
     "output_type": "execute_result"
    }
   ],
   "source": [
    "# Reset the pointer of csv_reader\n",
    "election_results.close()\n",
    "election_results = open(\"Resources/election_data.csv\", \"r\")\n",
    "csv_reader = csv.reader(election_results, delimiter=\",\")\n",
    "next(csv_reader)  # Skip the header row again\n",
    "\n",
    "# Continue with more operations on csv_reader"
   ]
  },
  {
   "cell_type": "code",
   "execution_count": 21,
   "id": "b4396c3b",
   "metadata": {},
   "outputs": [
    {
     "name": "stdout",
     "output_type": "stream",
     "text": [
      "0\n"
     ]
    }
   ],
   "source": [
    "#assign the index to a variable\n",
    "ballot_id_index = csv_header.index(\"Ballot ID\")\n",
    "\n",
    "print(ballot_id_index)"
   ]
  },
  {
   "cell_type": "code",
   "execution_count": 23,
   "id": "a59328ea",
   "metadata": {},
   "outputs": [],
   "source": [
    "#create variables to hold strings, lists, etc\n",
    "ballot_id_column = []"
   ]
  },
  {
   "cell_type": "code",
   "execution_count": 24,
   "id": "88a8df37",
   "metadata": {},
   "outputs": [],
   "source": [
    "#do the main operations in a for loop\n",
    "\n",
    "for row in csv_reader:\n",
    "    ballot_id_column.append(row[ballot_id_index])\n",
    "    \n",
    "\n",
    "    "
   ]
  },
  {
   "cell_type": "code",
   "execution_count": 28,
   "id": "ef28ca3c",
   "metadata": {},
   "outputs": [
    {
     "name": "stdout",
     "output_type": "stream",
     "text": [
      "A total of 369711 ballots were cast.\n"
     ]
    }
   ],
   "source": [
    "#Assigns the number of ballots to a variable\n",
    "ballot_count = len(ballot_id_column)\n",
    "print(f\"A total of {ballot_count} ballots were cast.\")"
   ]
  },
  {
   "cell_type": "code",
   "execution_count": null,
   "id": "5a514d59",
   "metadata": {},
   "outputs": [],
   "source": [
    "# Use the len function to generate the frequency count\n",
    "month_counts = len(dates)\n"
   ]
  },
  {
   "cell_type": "code",
   "execution_count": null,
   "id": "fd65ef35",
   "metadata": {},
   "outputs": [],
   "source": [
    "# Print the frequency count of months\n",
    "print(month_counts)"
   ]
  },
  {
   "cell_type": "code",
   "execution_count": null,
   "id": "ec25bd10",
   "metadata": {},
   "outputs": [],
   "source": [
    "print(total)"
   ]
  },
  {
   "cell_type": "code",
   "execution_count": null,
   "id": "aebd15cb",
   "metadata": {},
   "outputs": [],
   "source": [
    "print(monthly_changes)"
   ]
  },
  {
   "cell_type": "code",
   "execution_count": null,
   "id": "d0c54652",
   "metadata": {},
   "outputs": [],
   "source": [
    "average_change = round((Average(monthly_changes)), 2)\n",
    "print(average_change)"
   ]
  },
  {
   "cell_type": "code",
   "execution_count": null,
   "id": "ddc3616c",
   "metadata": {},
   "outputs": [],
   "source": [
    "greatest_increase = max(monthly_changes)\n",
    "print(greatest_increase)"
   ]
  },
  {
   "cell_type": "code",
   "execution_count": null,
   "id": "f5b1c29f",
   "metadata": {},
   "outputs": [],
   "source": [
    "greatest_decrease = min(monthly_changes)\n",
    "print(greatest_decrease)"
   ]
  },
  {
   "cell_type": "code",
   "execution_count": null,
   "id": "cd54b881",
   "metadata": {},
   "outputs": [],
   "source": [
    "print(\"Financial Analysis\")\n",
    "print(\"----------------------------\")\n",
    "print(f\"Total months: {month_counts}\")\n",
    "print(f\"Total profit/loss: ${total}\")\n",
    "print(f\"Average change: ${average_change}\")\n",
    "print(f\"Greatest increase in profits: ${greatest_increase}\")\n",
    "print(f\"Greatest decrease in profits: ${greatest_decrease}\")"
   ]
  },
  {
   "cell_type": "code",
   "execution_count": null,
   "id": "33a9fc76",
   "metadata": {},
   "outputs": [],
   "source": [
    "#Export results to a text file\n",
    "\n",
    "with open('Resources/output_PyBank.txt', 'w') as f:\n",
    "    f.write(\"Financial Analysis\\n\")\n",
    "    f.write(\"----------------------------\\n\")\n",
    "    f.write(f\"Total months: {month_counts}\\n\")\n",
    "    f.write(f\"Total profit/loss: ${total}\\n\")\n",
    "    f.write(f\"Average change: ${average_change}\\n\")\n",
    "    f.write(f\"Greatest increase in profits: ${greatest_increase}\\n\")\n",
    "    f.write(f\"Greatest decrease in profits: ${greatest_decrease}\\n\")\n",
    "        "
   ]
  },
  {
   "cell_type": "code",
   "execution_count": null,
   "id": "9faf62e6",
   "metadata": {},
   "outputs": [],
   "source": [
    "print(\"The name of the output file is output_PyBank.txt and it can be found in \\nthe resources folder for this program.\")"
   ]
  },
  {
   "cell_type": "code",
   "execution_count": null,
   "id": "c10babda",
   "metadata": {},
   "outputs": [],
   "source": [
    "print(\"Thank you for running Hugh's jupyter_main_PyBank.\\nUp next, PyPoll!\")"
   ]
  },
  {
   "cell_type": "code",
   "execution_count": null,
   "id": "5dc02cc5",
   "metadata": {},
   "outputs": [],
   "source": []
  },
  {
   "cell_type": "code",
   "execution_count": null,
   "id": "5f7696c0",
   "metadata": {},
   "outputs": [],
   "source": []
  },
  {
   "cell_type": "code",
   "execution_count": null,
   "id": "e6f2cad0",
   "metadata": {},
   "outputs": [],
   "source": []
  },
  {
   "cell_type": "code",
   "execution_count": null,
   "id": "0a6a154e",
   "metadata": {},
   "outputs": [],
   "source": []
  },
  {
   "cell_type": "code",
   "execution_count": null,
   "id": "6a151daf",
   "metadata": {},
   "outputs": [],
   "source": [
    "test_list = [40, 30, 20, 10, 0, 90, 80, 70, 60, -20, 50]\n",
    "print(min(test_list))"
   ]
  },
  {
   "cell_type": "code",
   "execution_count": null,
   "id": "6fecc8d8",
   "metadata": {},
   "outputs": [],
   "source": []
  },
  {
   "cell_type": "code",
   "execution_count": null,
   "id": "af5de241",
   "metadata": {},
   "outputs": [],
   "source": []
  },
  {
   "cell_type": "code",
   "execution_count": null,
   "id": "6f00e653",
   "metadata": {},
   "outputs": [],
   "source": []
  },
  {
   "cell_type": "code",
   "execution_count": null,
   "id": "578a28ef",
   "metadata": {},
   "outputs": [],
   "source": []
  },
  {
   "cell_type": "code",
   "execution_count": null,
   "id": "2948c311",
   "metadata": {},
   "outputs": [],
   "source": []
  },
  {
   "cell_type": "code",
   "execution_count": null,
   "id": "47e925e6",
   "metadata": {},
   "outputs": [],
   "source": [
    "budget_data_csv.close()"
   ]
  }
 ],
 "metadata": {
  "kernelspec": {
   "display_name": "PythonData",
   "language": "python",
   "name": "pythondata"
  },
  "language_info": {
   "codemirror_mode": {
    "name": "ipython",
    "version": 3
   },
   "file_extension": ".py",
   "mimetype": "text/x-python",
   "name": "python",
   "nbconvert_exporter": "python",
   "pygments_lexer": "ipython3",
   "version": "3.7.13"
  }
 },
 "nbformat": 4,
 "nbformat_minor": 5
}
