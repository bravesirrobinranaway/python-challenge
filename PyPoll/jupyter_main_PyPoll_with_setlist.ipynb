{
 "cells": [
  {
   "cell_type": "code",
   "execution_count": 51,
   "id": "8123a2b5",
   "metadata": {},
   "outputs": [],
   "source": [
    "#dependencies\n",
    "import os\n",
    "import csv\n",
    "from collections import Counter"
   ]
  },
  {
   "cell_type": "code",
   "execution_count": 52,
   "id": "eae597fd",
   "metadata": {},
   "outputs": [],
   "source": [
    "#functions\n",
    "def setlist(list_data):\n",
    " \n",
    "    # insert the list to the set\n",
    "    list_set = set(list_data)\n",
    "    # convert the set to the list\n",
    "    set_in_list = (list(list_set))\n",
    "    return set_in_list\n",
    "    "
   ]
  },
  {
   "cell_type": "code",
   "execution_count": 53,
   "id": "eb83702b",
   "metadata": {},
   "outputs": [],
   "source": [
    "#assign csv data to variable\n",
    "election_results = open(\"Resources/election_data.csv\", \"r\")"
   ]
  },
  {
   "cell_type": "code",
   "execution_count": 54,
   "id": "578ea92d",
   "metadata": {},
   "outputs": [],
   "source": [
    "#read csv\n",
    "csv_reader = csv.reader(election_results, delimiter=\",\")"
   ]
  },
  {
   "cell_type": "code",
   "execution_count": 55,
   "id": "7d6f3940",
   "metadata": {},
   "outputs": [
    {
     "name": "stdout",
     "output_type": "stream",
     "text": [
      "Header: ['Ballot ID', 'County', 'Candidate']\n"
     ]
    }
   ],
   "source": [
    "#Read and print the header row\n",
    "csv_header = next(csv_reader)\n",
    "print(f\"Header: {csv_header}\")"
   ]
  },
  {
   "cell_type": "code",
   "execution_count": 56,
   "id": "efd943a8",
   "metadata": {
    "scrolled": false
   },
   "outputs": [],
   "source": [
    "#Check to see if I can write the data to a new .csv file\n",
    "\n",
    "with open(\"Resources/new_election_data.csv\", \"w\", newline=\"\") as new_file:\n",
    "    csv_writer = csv.writer(new_file, delimiter=\",\")\n",
    "\n",
    "    # Write the header row to the new file\n",
    "    csv_writer.writerow(csv_header)\n",
    "\n",
    "    # Write all data rows to the new file\n",
    "    for row in csv_reader:\n",
    "        csv_writer.writerow(row)\n",
    "\n"
   ]
  },
  {
   "cell_type": "code",
   "execution_count": 57,
   "id": "5b31e73e",
   "metadata": {},
   "outputs": [
    {
     "data": {
      "text/plain": [
       "['Ballot ID', 'County', 'Candidate']"
      ]
     },
     "execution_count": 57,
     "metadata": {},
     "output_type": "execute_result"
    }
   ],
   "source": [
    "# Reset the pointer of csv_reader\n",
    "election_results.close()\n",
    "election_results = open(\"Resources/election_data.csv\", \"r\")\n",
    "csv_reader = csv.reader(election_results, delimiter=\",\")\n",
    "next(csv_reader)  # Skip the header row again\n",
    "\n",
    "# Continue with more operations on csv_reader"
   ]
  },
  {
   "cell_type": "code",
   "execution_count": 58,
   "id": "b4396c3b",
   "metadata": {},
   "outputs": [
    {
     "name": "stdout",
     "output_type": "stream",
     "text": [
      "0\n",
      "2\n"
     ]
    }
   ],
   "source": [
    "#assign the index to a variable\n",
    "ballot_id_index = csv_header.index(\"Ballot ID\")\n",
    "candidate_index = csv_header.index(\"Candidate\")\n",
    "\n",
    "print(ballot_id_index)\n",
    "print(candidate_index)"
   ]
  },
  {
   "cell_type": "code",
   "execution_count": 59,
   "id": "a59328ea",
   "metadata": {},
   "outputs": [],
   "source": [
    "#create variables to hold strings, lists, etc\n",
    "ballot_id_column = []\n",
    "candidate_column = []"
   ]
  },
  {
   "cell_type": "code",
   "execution_count": 60,
   "id": "88a8df37",
   "metadata": {},
   "outputs": [],
   "source": [
    "#populate lists with the data in a for loop\n",
    "\n",
    "for row in csv_reader:\n",
    "    ballot_id_column.append(row[ballot_id_index])\n",
    "    candidate_column.append(row[candidate_index])\n",
    "    \n",
    "\n",
    "    "
   ]
  },
  {
   "cell_type": "code",
   "execution_count": 61,
   "id": "ef28ca3c",
   "metadata": {},
   "outputs": [
    {
     "name": "stdout",
     "output_type": "stream",
     "text": [
      "A total of 369711 ballots were cast.\n"
     ]
    }
   ],
   "source": [
    "#Assigns the number of ballots to a variable\n",
    "ballot_count = len(ballot_id_column)\n",
    "print(f\"A total of {ballot_count} ballots were cast.\")"
   ]
  },
  {
   "cell_type": "code",
   "execution_count": 62,
   "id": "ec25bd10",
   "metadata": {},
   "outputs": [
    {
     "name": "stdout",
     "output_type": "stream",
     "text": [
      "{'Charles Casper Stockham': 85213, 'Diana DeGette': 272892, 'Raymon Anthony Doane': 11606}\n"
     ]
    },
    {
     "data": {
      "text/plain": [
       "dict_keys(['Charles Casper Stockham', 'Diana DeGette', 'Raymon Anthony Doane'])"
      ]
     },
     "execution_count": 62,
     "metadata": {},
     "output_type": "execute_result"
    }
   ],
   "source": [
    "vote_count_dict = dict(Counter(candidate_column))\n",
    "print(vote_count_dict)\n",
    "vote_count_dict.keys()"
   ]
  },
  {
   "cell_type": "code",
   "execution_count": 63,
   "id": "aebd15cb",
   "metadata": {},
   "outputs": [
    {
     "name": "stdout",
     "output_type": "stream",
     "text": [
      "369711\n"
     ]
    }
   ],
   "source": [
    "vote_total = len(candidate_column)\n",
    "print(vote_total)"
   ]
  },
  {
   "cell_type": "code",
   "execution_count": 64,
   "id": "d0c54652",
   "metadata": {},
   "outputs": [
    {
     "data": {
      "text/plain": [
       "272892"
      ]
     },
     "execution_count": 64,
     "metadata": {},
     "output_type": "execute_result"
    }
   ],
   "source": [
    "vote_count_dict[\"Diana DeGette\"]"
   ]
  },
  {
   "cell_type": "code",
   "execution_count": 65,
   "id": "878e8a49",
   "metadata": {},
   "outputs": [
    {
     "name": "stdout",
     "output_type": "stream",
     "text": [
      "369711\n"
     ]
    }
   ],
   "source": [
    "print(ballot_count)"
   ]
  },
  {
   "cell_type": "code",
   "execution_count": 66,
   "id": "886363da",
   "metadata": {},
   "outputs": [
    {
     "name": "stdout",
     "output_type": "stream",
     "text": [
      "The winner is Diana DeGette.\n"
     ]
    }
   ],
   "source": [
    "#identify the highest vote count\n",
    "key = max(vote_count_dict, key=vote_count_dict.get)\n",
    "winner = key\n",
    "print(f\"The winner is {winner}.\")\n"
   ]
  },
  {
   "cell_type": "code",
   "execution_count": 67,
   "id": "ddc3616c",
   "metadata": {},
   "outputs": [
    {
     "name": "stdout",
     "output_type": "stream",
     "text": [
      "{'Charles Casper Stockham': '23%', 'Diana DeGette': '74%', 'Raymon Anthony Doane': '3%'}\n"
     ]
    }
   ],
   "source": [
    "#iterate through the vote count dictionary to calculate \n",
    "#and store percentages\n",
    "\n",
    "vote_percentage_dict = {}\n",
    "\n",
    "for key, value in vote_count_dict.items():\n",
    "    result = value / ballot_count\n",
    "    result = \"{:.0%}\".format(result)\n",
    "    vote_percentage_dict[key] = result\n",
    "\n",
    "print(vote_percentage_dict)"
   ]
  },
  {
   "cell_type": "code",
   "execution_count": 68,
   "id": "f5b1c29f",
   "metadata": {},
   "outputs": [
    {
     "name": "stdout",
     "output_type": "stream",
     "text": [
      "['Charles Casper Stockham', 'Diana DeGette', 'Raymon Anthony Doane']\n"
     ]
    }
   ],
   "source": [
    "candidate_list = list(vote_percentage_dict)\n",
    "print(candidate_list)"
   ]
  },
  {
   "cell_type": "code",
   "execution_count": 69,
   "id": "cd54b881",
   "metadata": {},
   "outputs": [
    {
     "name": "stdout",
     "output_type": "stream",
     "text": [
      "Election Results\n",
      "----------------------------\n",
      "Total votes: 369711\n",
      "----------------------------\n",
      "Charles Casper Stockham: 23%  (85213)\n",
      "Diana DeGette: 74%  (272892)\n",
      "Raymon Anthony Doane: 3%  (11606)\n",
      "----------------------------\n",
      "Winner: Diana DeGette\n",
      "----------------------------\n"
     ]
    }
   ],
   "source": [
    "print(\"Election Results\")\n",
    "print(\"----------------------------\")\n",
    "print(f\"Total votes: {ballot_count}\")\n",
    "print(\"----------------------------\")\n",
    "print(f\"{candidate_list[0]}: {vote_percentage_dict['Charles Casper Stockham']}  ({vote_count_dict['Charles Casper Stockham']})\")\n",
    "print(f\"{candidate_list[1]}: {vote_percentage_dict['Diana DeGette']}  ({vote_count_dict['Diana DeGette']})\")\n",
    "print(f\"{candidate_list[2]}: {vote_percentage_dict['Raymon Anthony Doane']}  ({vote_count_dict['Raymon Anthony Doane']})\")\n",
    "print(\"----------------------------\")\n",
    "print(f\"Winner: {winner}\")\n",
    "print(\"----------------------------\")\n",
    "\n"
   ]
  },
  {
   "cell_type": "code",
   "execution_count": 70,
   "id": "33a9fc76",
   "metadata": {},
   "outputs": [],
   "source": [
    "#Export results to a text file\n",
    "\n",
    "with open('Analysis_PyPoll/output_PyPoll.txt', 'w') as f:\n",
    "    f.write(\"Election Results\")\n",
    "    f.write(\"----------------------------\")\n",
    "    f.write(f\"Total votes: {ballot_count}\")\n",
    "    f.write(\"----------------------------\")\n",
    "    f.write(f\"{candidate_list[0]}: {vote_percentage_dict['Charles Casper Stockham']}  ({vote_count_dict['Charles Casper Stockham']})\")\n",
    "    f.write(f\"{candidate_list[1]}: {vote_percentage_dict['Diana DeGette']}  ({vote_count_dict['Diana DeGette']})\")\n",
    "    f.write(f\"{candidate_list[2]}: {vote_percentage_dict['Raymon Anthony Doane']}  ({vote_count_dict['Raymon Anthony Doane']})\")\n",
    "    f.write(\"----------------------------\")\n",
    "    f.write(f\"Winner: {winner}\")\n",
    "    f.write(\"----------------------------\")\n",
    "        "
   ]
  },
  {
   "cell_type": "code",
   "execution_count": 71,
   "id": "9faf62e6",
   "metadata": {},
   "outputs": [
    {
     "name": "stdout",
     "output_type": "stream",
     "text": [
      "The name of the output file is output_PyPoll.txt and it can be found in \n",
      "the resources folder for this program.\n"
     ]
    }
   ],
   "source": [
    "print(\"The name of the output file is output_PyPoll.txt and it can be found in \\nthe resources folder for this program.\")"
   ]
  },
  {
   "cell_type": "code",
   "execution_count": 72,
   "id": "c10babda",
   "metadata": {},
   "outputs": [
    {
     "name": "stdout",
     "output_type": "stream",
     "text": [
      "Thank you for running Hugh's jupyter_main_PyPoll.\n"
     ]
    }
   ],
   "source": [
    "print(\"Thank you for running Hugh's jupyter_main_PyPoll.\")"
   ]
  },
  {
   "cell_type": "code",
   "execution_count": 73,
   "id": "5dc02cc5",
   "metadata": {},
   "outputs": [],
   "source": [
    "election_results.close()"
   ]
  },
  {
   "cell_type": "code",
   "execution_count": null,
   "id": "2fe11926",
   "metadata": {},
   "outputs": [],
   "source": []
  }
 ],
 "metadata": {
  "kernelspec": {
   "display_name": "PythonData",
   "language": "python",
   "name": "pythondata"
  },
  "language_info": {
   "codemirror_mode": {
    "name": "ipython",
    "version": 3
   },
   "file_extension": ".py",
   "mimetype": "text/x-python",
   "name": "python",
   "nbconvert_exporter": "python",
   "pygments_lexer": "ipython3",
   "version": "3.7.13"
  }
 },
 "nbformat": 4,
 "nbformat_minor": 5
}
